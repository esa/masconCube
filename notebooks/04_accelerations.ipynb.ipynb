{
 "cells": [
  {
   "cell_type": "markdown",
   "id": "34b18d93",
   "metadata": {},
   "source": [
    "# Aceleration comparisons"
   ]
  },
  {
   "cell_type": "code",
   "execution_count": 266,
   "id": "3ac4c406",
   "metadata": {},
   "outputs": [
    {
     "name": "stdout",
     "output_type": "stream",
     "text": [
      "The autoreload extension is already loaded. To reload it, use:\n",
      "  %reload_ext autoreload\n"
     ]
    }
   ],
   "source": [
    "# Ensure that changes in imported module (gravann most importantly) are autoreloaded\n",
    "%load_ext autoreload\n",
    "%autoreload 2\n",
    "\n",
    "import os\n",
    "\n",
    "import numpy as np\n",
    "import pandas as pd\n",
    "import seaborn as sns\n",
    "import torch\n",
    "import torchquad as tquad\n",
    "from mascon_cube import geodesynet\n",
    "from mascon_cube.constants import GROUND_TRUTH_DIR, OUTPUT_DIR, VAL_DATASETS_DIR\n",
    "from mascon_cube.data.mascon_model import MasconModel\n",
    "from mascon_cube.data.mesh import get_mesh, is_outside_torch, unpack_triangle_mesh\n",
    "from mascon_cube.data.stokes import combine_stokes_coefficients, mascon2stokes\n",
    "from mascon_cube.training import CubeTrainingConfig, ValidationConfig, training_loop\n",
    "from mascon_cube.visualization import plot_mascon_cube, stokes_boxplot, stokes_heatmap\n",
    "from mascon_cube.metrics import compute_acceleration, cosine_distance, norm_distance, relative_norm_distance\n",
    "from mascon_cube.data.loading import load_dataset\n",
    "from matplotlib import pyplot as plt\n",
    "from torch import nn\n",
    "from tqdm import tqdm"
   ]
  },
  {
   "cell_type": "code",
   "execution_count": 267,
   "id": "320f6be2",
   "metadata": {},
   "outputs": [],
   "source": [
    "torch.manual_seed(42)\n",
    "np.random.seed(42)\n",
    "device = \"cuda\""
   ]
  },
  {
   "cell_type": "code",
   "execution_count": 268,
   "id": "a43d4fff",
   "metadata": {},
   "outputs": [],
   "source": [
    "asteroids = [f.name for f in GROUND_TRUTH_DIR.iterdir() if f.is_dir()]\n",
    "df = {}"
   ]
  },
  {
   "cell_type": "markdown",
   "id": "6e6bff8f",
   "metadata": {},
   "source": [
    "## Compute acelerations"
   ]
  },
  {
   "cell_type": "markdown",
   "id": "179b2b2c",
   "metadata": {},
   "source": [
    "Compute accelerations for ground-truth models"
   ]
  },
  {
   "cell_type": "code",
   "execution_count": 269,
   "id": "f4f892ec",
   "metadata": {},
   "outputs": [
    {
     "name": "stderr",
     "output_type": "stream",
     "text": [
      "100%|██████████| 6/6 [00:01<00:00,  5.06it/s]\n"
     ]
    }
   ],
   "source": [
    "gt_acc = {}\n",
    "for asteroid in tqdm(asteroids):\n",
    "    model = MasconModel(asteroid, device=device)\n",
    "    test_dataset = load_dataset(asteroid, test=True, device=device)\n",
    "    gt_acc[asteroid] = compute_acceleration(model, test_dataset)"
   ]
  },
  {
   "cell_type": "markdown",
   "id": "1624531b",
   "metadata": {},
   "source": [
    "Compute accelerations for mascon cubes"
   ]
  },
  {
   "cell_type": "code",
   "execution_count": null,
   "id": "02e83dcb",
   "metadata": {},
   "outputs": [
    {
     "name": "stderr",
     "output_type": "stream",
     "text": [
      "  0%|          | 0/6 [00:00<?, ?it/s]"
     ]
    },
    {
     "name": "stderr",
     "output_type": "stream",
     "text": [
      "100%|██████████| 6/6 [00:00<00:00,  6.09it/s]\n"
     ]
    }
   ],
   "source": [
    "df[\"MasconCube\"] = {}\n",
    "for asteroid in tqdm(asteroids):\n",
    "    df[\"MasconCube\"][asteroid] = {}\n",
    "    cube = torch.load(OUTPUT_DIR / \"mascon_cube\" / asteroid / \"model.pt\").to(device)\n",
    "    test_dataset = load_dataset(asteroid, test=True, device=device)\n",
    "    cube_acc = compute_acceleration(model, test_dataset)\n",
    "    for distance_name, distance_fn in zip((\"Cosine Distance\", \"Euclidean Norm Distance\", \"Relative Euclidean Norm Distance\"), (cosine_distance, norm_distance, relative_norm_distance)):\n",
    "        distance = distance_fn(cube_acc, gt_acc[asteroid])\n",
    "        df[\"MasconCube\"][asteroid][distance_name] = distance.mean().item()"
   ]
  },
  {
   "cell_type": "markdown",
   "id": "17c3c1c7",
   "metadata": {},
   "source": [
    "Compute accelerations for geodesynets and uniform model"
   ]
  },
  {
   "cell_type": "code",
   "execution_count": 271,
   "id": "46f4d505",
   "metadata": {},
   "outputs": [
    {
     "name": "stderr",
     "output_type": "stream",
     "text": [
      "  0%|          | 0/6 [00:00<?, ?it/s]"
     ]
    },
    {
     "name": "stderr",
     "output_type": "stream",
     "text": [
      "100%|██████████| 6/6 [00:07<00:00,  1.29s/it]\n"
     ]
    }
   ],
   "source": [
    "df[\"GeodesyNet\"] = {}\n",
    "df[\"Uniform model\"] = {}\n",
    "for asteroid in tqdm(asteroids):\n",
    "    encoding = geodesynet.direct_encoding()\n",
    "    net = geodesynet.init_network(encoding, n_neurons=100, model_type=\"siren\", activation=nn.Tanh()).to(device)\n",
    "    net.load_state_dict(torch.load(OUTPUT_DIR / \"geodesynet\" / asteroid / \"model.pt\"))\n",
    "    net = net.to(device)\n",
    "    with open(OUTPUT_DIR / \"geodesynet\" / asteroid / \"c.txt\", \"r\") as f:\n",
    "        c = f.readline()\n",
    "    c = float(c)\n",
    "    test_dataset = load_dataset(asteroid, test=True, device=device)\n",
    "    uniform_model = MasconModel(asteroid, device=device, uniform=True)\n",
    "    geodesynet_acc = compute_acceleration(net.to(device), test_dataset, batch_size=100, uniform_model=uniform_model.to(device), c=c)\n",
    "    for distance_name, distance_fn in zip((\"Cosine Distance\", \"Euclidean Norm Distance\", \"Relative Euclidean Norm Distance\"), (cosine_distance, norm_distance, relative_norm_distance)):\n",
    "        distance = distance_fn(geodesynet_acc, gt_acc[asteroid])\n",
    "        df[\"GeodesyNet\"][distance_name] = distance.mean().item()\n",
    "    uniform_acc = compute_acceleration(uniform_model, test_dataset)\n",
    "    for distance_name, distance_fn in zip((\"Cosine Distance\", \"Euclidean Norm Distance\", \"Relative Euclidean Norm Distance\"), (cosine_distance, norm_distance, relative_norm_distance)):\n",
    "        distance = distance_fn(uniform_acc, gt_acc[asteroid])\n",
    "        df[\"Uniform model\"][distance_name] = distance.mean().item()"
   ]
  },
  {
   "cell_type": "code",
   "execution_count": 272,
   "id": "24cd61e5",
   "metadata": {},
   "outputs": [],
   "source": [
    "df = pd.DataFrame(df)"
   ]
  },
  {
   "cell_type": "markdown",
   "id": "972d83a2",
   "metadata": {},
   "source": [
    "## Compare accelerations"
   ]
  },
  {
   "cell_type": "code",
   "execution_count": 273,
   "id": "35788007",
   "metadata": {},
   "outputs": [
    {
     "data": {
      "text/html": [
       "<div>\n",
       "<style scoped>\n",
       "    .dataframe tbody tr th:only-of-type {\n",
       "        vertical-align: middle;\n",
       "    }\n",
       "\n",
       "    .dataframe tbody tr th {\n",
       "        vertical-align: top;\n",
       "    }\n",
       "\n",
       "    .dataframe thead th {\n",
       "        text-align: right;\n",
       "    }\n",
       "</style>\n",
       "<table border=\"1\" class=\"dataframe\">\n",
       "  <thead>\n",
       "    <tr style=\"text-align: right;\">\n",
       "      <th></th>\n",
       "      <th>MasconCube</th>\n",
       "      <th>GeodesyNet</th>\n",
       "      <th>Uniform model</th>\n",
       "    </tr>\n",
       "  </thead>\n",
       "  <tbody>\n",
       "    <tr>\n",
       "      <th>Cosine Distance</th>\n",
       "      <td>6.198883e-09</td>\n",
       "      <td>0.000141</td>\n",
       "      <td>0.016955</td>\n",
       "    </tr>\n",
       "    <tr>\n",
       "      <th>Euclidean Norm Distance</th>\n",
       "      <td>0.000000e+00</td>\n",
       "      <td>0.003274</td>\n",
       "      <td>0.134023</td>\n",
       "    </tr>\n",
       "    <tr>\n",
       "      <th>Relative Euclidean Norm Distance</th>\n",
       "      <td>0.000000e+00</td>\n",
       "      <td>0.005742</td>\n",
       "      <td>0.187670</td>\n",
       "    </tr>\n",
       "  </tbody>\n",
       "</table>\n",
       "</div>"
      ],
      "text/plain": [
       "                                    MasconCube  GeodesyNet  Uniform model\n",
       "Cosine Distance                   6.198883e-09    0.000141       0.016955\n",
       "Euclidean Norm Distance           0.000000e+00    0.003274       0.134023\n",
       "Relative Euclidean Norm Distance  0.000000e+00    0.005742       0.187670"
      ]
     },
     "execution_count": 273,
     "metadata": {},
     "output_type": "execute_result"
    }
   ],
   "source": [
    "df"
   ]
  },
  {
   "cell_type": "code",
   "execution_count": 4,
   "id": "dead4d18",
   "metadata": {},
   "outputs": [],
   "source": [
    "def create_dataframe(asteroids):\n",
    "    df = []\n",
    "    for asteroid in asteroids:\n",
    "        with open(GROUND_TRUTH_DIR / asteroid / \"stokes.npy\", \"rb\") as f:\n",
    "            gt_stokes = np.load(f)\n",
    "        with open(OUTPUT_DIR / \"geodesynet\" / asteroid / \"stokes.npy\", \"rb\") as f:\n",
    "            net_stokes = np.load(f)\n",
    "        with open(OUTPUT_DIR / \"mascon_cube\" / asteroid / \"stokes.npy\", \"rb\") as f:\n",
    "            cube_stokes = np.load(f)\n",
    "        cube_error = np.abs(gt_stokes - cube_stokes)\n",
    "        net_error = np.abs(gt_stokes - net_stokes)\n",
    "        cube_error_rel = np.abs(gt_stokes - cube_stokes) / (np.abs(gt_stokes) + 1e-16)\n",
    "        net_error_rel = np.abs(gt_stokes - net_stokes) / (np.abs(gt_stokes) + 1e-16)\n",
    "        for stoke, error, error_rel in zip(cube_stokes.flatten(), cube_error.flatten(), cube_error_rel.flatten()):\n",
    "            df.append({\"asteroid\": asteroid, \"stoke\": stoke, \"error\": error, \"error_rel\": error_rel, \"model\": \"cube\"})\n",
    "        for stoke, error, error_rel in zip(net_stokes.flatten(), net_error.flatten(), net_error_rel.flatten()):\n",
    "            df.append({\"asteroid\": asteroid, \"stoke\": stoke, \"error\": error, \"error_rel\": error_rel, \"model\": \"net\"})\n",
    "    return pd.DataFrame(df)\n"
   ]
  },
  {
   "cell_type": "code",
   "execution_count": 5,
   "id": "9d0ce7e8",
   "metadata": {},
   "outputs": [],
   "source": [
    "df = create_dataframe(asteroids)"
   ]
  },
  {
   "cell_type": "code",
   "execution_count": 6,
   "id": "00f4ea06",
   "metadata": {},
   "outputs": [
    {
     "data": {
      "image/png": "[encoded data removed]",
      "text/plain": [
       "<Figure size 640x480 with 1 Axes>"
      ]
     },
     "metadata": {},
     "output_type": "display_data"
    },
    {
     "data": {
      "image/png": "[encoded data removed]",
      "text/plain": [
       "<Figure size 640x480 with 1 Axes>"
      ]
     },
     "metadata": {},
     "output_type": "display_data"
    }
   ],
   "source": [
    "sns.set_theme()\n",
    "sns.set_style(\"whitegrid\")\n",
    "sns.set_context(\"paper\")\n",
    "\n",
    "sns.boxplot(data=df, y=\"asteroid\", x=\"error\", hue=\"model\", showfliers=False, palette=\"Set2\", orient=\"h\", log_scale=True)\n",
    "plt.title(\"Absolute error\")\n",
    "plt.show()\n",
    "sns.boxplot(data=df, y=\"asteroid\", x=\"error_rel\", hue=\"model\", showfliers=False, palette=\"Set2\", orient=\"h\", log_scale=True)\n",
    "plt.title(\"Relative error\")\n",
    "plt.show()"
   ]
  }
 ],
 "metadata": {
  "kernelspec": {
   "display_name": "masconcube",
   "language": "python",
   "name": "masconcube"
  },
  "language_info": {
   "codemirror_mode": {
    "name": "ipython",
    "version": 3
   },
   "file_extension": ".py",
   "mimetype": "text/x-python",
   "name": "python",
   "nbconvert_exporter": "python",
   "pygments_lexer": "ipython3",
   "version": "3.12.9"
  }
 },
 "nbformat": 4,
 "nbformat_minor": 5
}
